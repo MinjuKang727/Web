{
 "cells": [
  {
   "cell_type": "code",
   "execution_count": 5,
   "id": "372b4da1",
   "metadata": {},
   "outputs": [],
   "source": [
    "from selenium import webdriver as wb\n",
    "from selenium.webdriver.common.by import By\n",
    "import time\n",
    "import pandas as pd\n",
    "from tqdm import tqdm_notebook as tq\n",
    "from selenium.webdriver import ActionChains"
   ]
  },
  {
   "cell_type": "code",
   "execution_count": 6,
   "id": "233f2c32",
   "metadata": {},
   "outputs": [],
   "source": [
    "driver = wb.Chrome()\n",
    "driver.get('http://corners.gmarket.co.kr/Bestsellers')"
   ]
  },
  {
   "cell_type": "code",
   "execution_count": 7,
   "id": "62adade0",
   "metadata": {
    "scrolled": true
   },
   "outputs": [
    {
     "name": "stderr",
     "output_type": "stream",
     "text": [
      "C:\\Users\\AI\\AppData\\Local\\Temp\\ipykernel_27184\\723370677.py:9: TqdmDeprecationWarning: This function will be removed in tqdm==5.0.0\n",
      "Please use `tqdm.notebook.tqdm` instead of `tqdm.tqdm_notebook`\n",
      "  for i in tq(range(10)) :\n"
     ]
    },
    {
     "data": {
      "application/vnd.jupyter.widget-view+json": {
       "model_id": "bc98ba2b467944dfa31937116071da6e",
       "version_major": 2,
       "version_minor": 0
      },
      "text/plain": [
       "  0%|          | 0/10 [00:00<?, ?it/s]"
      ]
     },
     "metadata": {},
     "output_type": "display_data"
    },
    {
     "ename": "NoSuchWindowException",
     "evalue": "Message: no such window: target window already closed\nfrom unknown error: web view not found\n  (Session info: chrome=103.0.5060.114)\nStacktrace:\nBacktrace:\n\tOrdinal0 [0x00B76463+2188387]\n\tOrdinal0 [0x00B0E461+1762401]\n\tOrdinal0 [0x00A23D78+802168]\n\tOrdinal0 [0x00A0C680+706176]\n\tOrdinal0 [0x00A6F169+1110377]\n\tOrdinal0 [0x00A7C3C2+1164226]\n\tOrdinal0 [0x00A6C5F6+1099254]\n\tOrdinal0 [0x00A46BE0+945120]\n\tOrdinal0 [0x00A47AD6+948950]\n\tGetHandleVerifier [0x00E171F2+2712546]\n\tGetHandleVerifier [0x00E0886D+2652765]\n\tGetHandleVerifier [0x00C0002A+520730]\n\tGetHandleVerifier [0x00BFEE06+516086]\n\tOrdinal0 [0x00B1468B+1787531]\n\tOrdinal0 [0x00B18E88+1805960]\n\tOrdinal0 [0x00B18F75+1806197]\n\tOrdinal0 [0x00B21DF1+1842673]\n\tBaseThreadInitThunk [0x75B06739+25]\n\tRtlGetFullPathName_UEx [0x77528FEF+1215]\n\tRtlGetFullPathName_UEx [0x77528FBD+1165]\n",
     "output_type": "error",
     "traceback": [
      "\u001b[1;31m---------------------------------------------------------------------------\u001b[0m",
      "\u001b[1;31mNoSuchWindowException\u001b[0m                     Traceback (most recent call last)",
      "Input \u001b[1;32mIn [7]\u001b[0m, in \u001b[0;36m<cell line: 9>\u001b[1;34m()\u001b[0m\n\u001b[0;32m     18\u001b[0m time\u001b[38;5;241m.\u001b[39msleep(\u001b[38;5;241m3\u001b[39m) \u001b[38;5;66;03m# 강제성, 무조건 3초 휴식\u001b[39;00m\n\u001b[0;32m     19\u001b[0m \u001b[38;5;66;03m# driver.implicitly_wait(10) = 최대 10초 휴식\u001b[39;00m\n\u001b[0;32m     20\u001b[0m \u001b[38;5;66;03m# html 파일을 다 받아오면 그 중간에 멈추고 뒤 코드를 실행\u001b[39;00m\n\u001b[1;32m---> 21\u001b[0m product_i \u001b[38;5;241m=\u001b[39m \u001b[43mdriver\u001b[49m\u001b[38;5;241;43m.\u001b[39;49m\u001b[43mfind_element\u001b[49m\u001b[43m(\u001b[49m\u001b[43mBy\u001b[49m\u001b[38;5;241;43m.\u001b[39;49m\u001b[43mCLASS_NAME\u001b[49m\u001b[43m,\u001b[49m\u001b[43m \u001b[49m\u001b[38;5;124;43m'\u001b[39;49m\u001b[38;5;124;43mitemtit\u001b[39;49m\u001b[38;5;124;43m'\u001b[39;49m\u001b[43m)\u001b[49m\n\u001b[0;32m     22\u001b[0m product\u001b[38;5;241m.\u001b[39mappend(product_i\u001b[38;5;241m.\u001b[39mtext)\n\u001b[0;32m     23\u001b[0m price_i \u001b[38;5;241m=\u001b[39m driver\u001b[38;5;241m.\u001b[39mfind_element(By\u001b[38;5;241m.\u001b[39mCLASS_NAME, \u001b[38;5;124m'\u001b[39m\u001b[38;5;124mprice_real\u001b[39m\u001b[38;5;124m'\u001b[39m)\n",
      "File \u001b[1;32m~\\Anaconda3\\lib\\site-packages\\selenium\\webdriver\\remote\\webdriver.py:857\u001b[0m, in \u001b[0;36mWebDriver.find_element\u001b[1;34m(self, by, value)\u001b[0m\n\u001b[0;32m    854\u001b[0m     by \u001b[38;5;241m=\u001b[39m By\u001b[38;5;241m.\u001b[39mCSS_SELECTOR\n\u001b[0;32m    855\u001b[0m     value \u001b[38;5;241m=\u001b[39m \u001b[38;5;124m'\u001b[39m\u001b[38;5;124m[name=\u001b[39m\u001b[38;5;124m\"\u001b[39m\u001b[38;5;132;01m%s\u001b[39;00m\u001b[38;5;124m\"\u001b[39m\u001b[38;5;124m]\u001b[39m\u001b[38;5;124m'\u001b[39m \u001b[38;5;241m%\u001b[39m value\n\u001b[1;32m--> 857\u001b[0m \u001b[38;5;28;01mreturn\u001b[39;00m \u001b[38;5;28;43mself\u001b[39;49m\u001b[38;5;241;43m.\u001b[39;49m\u001b[43mexecute\u001b[49m\u001b[43m(\u001b[49m\u001b[43mCommand\u001b[49m\u001b[38;5;241;43m.\u001b[39;49m\u001b[43mFIND_ELEMENT\u001b[49m\u001b[43m,\u001b[49m\u001b[43m \u001b[49m\u001b[43m{\u001b[49m\n\u001b[0;32m    858\u001b[0m \u001b[43m    \u001b[49m\u001b[38;5;124;43m'\u001b[39;49m\u001b[38;5;124;43musing\u001b[39;49m\u001b[38;5;124;43m'\u001b[39;49m\u001b[43m:\u001b[49m\u001b[43m \u001b[49m\u001b[43mby\u001b[49m\u001b[43m,\u001b[49m\n\u001b[0;32m    859\u001b[0m \u001b[43m    \u001b[49m\u001b[38;5;124;43m'\u001b[39;49m\u001b[38;5;124;43mvalue\u001b[39;49m\u001b[38;5;124;43m'\u001b[39;49m\u001b[43m:\u001b[49m\u001b[43m \u001b[49m\u001b[43mvalue\u001b[49m\u001b[43m}\u001b[49m\u001b[43m)\u001b[49m[\u001b[38;5;124m'\u001b[39m\u001b[38;5;124mvalue\u001b[39m\u001b[38;5;124m'\u001b[39m]\n",
      "File \u001b[1;32m~\\Anaconda3\\lib\\site-packages\\selenium\\webdriver\\remote\\webdriver.py:435\u001b[0m, in \u001b[0;36mWebDriver.execute\u001b[1;34m(self, driver_command, params)\u001b[0m\n\u001b[0;32m    433\u001b[0m response \u001b[38;5;241m=\u001b[39m \u001b[38;5;28mself\u001b[39m\u001b[38;5;241m.\u001b[39mcommand_executor\u001b[38;5;241m.\u001b[39mexecute(driver_command, params)\n\u001b[0;32m    434\u001b[0m \u001b[38;5;28;01mif\u001b[39;00m response:\n\u001b[1;32m--> 435\u001b[0m     \u001b[38;5;28;43mself\u001b[39;49m\u001b[38;5;241;43m.\u001b[39;49m\u001b[43merror_handler\u001b[49m\u001b[38;5;241;43m.\u001b[39;49m\u001b[43mcheck_response\u001b[49m\u001b[43m(\u001b[49m\u001b[43mresponse\u001b[49m\u001b[43m)\u001b[49m\n\u001b[0;32m    436\u001b[0m     response[\u001b[38;5;124m'\u001b[39m\u001b[38;5;124mvalue\u001b[39m\u001b[38;5;124m'\u001b[39m] \u001b[38;5;241m=\u001b[39m \u001b[38;5;28mself\u001b[39m\u001b[38;5;241m.\u001b[39m_unwrap_value(\n\u001b[0;32m    437\u001b[0m         response\u001b[38;5;241m.\u001b[39mget(\u001b[38;5;124m'\u001b[39m\u001b[38;5;124mvalue\u001b[39m\u001b[38;5;124m'\u001b[39m, \u001b[38;5;28;01mNone\u001b[39;00m))\n\u001b[0;32m    438\u001b[0m     \u001b[38;5;28;01mreturn\u001b[39;00m response\n",
      "File \u001b[1;32m~\\Anaconda3\\lib\\site-packages\\selenium\\webdriver\\remote\\errorhandler.py:247\u001b[0m, in \u001b[0;36mErrorHandler.check_response\u001b[1;34m(self, response)\u001b[0m\n\u001b[0;32m    245\u001b[0m         alert_text \u001b[38;5;241m=\u001b[39m value[\u001b[38;5;124m'\u001b[39m\u001b[38;5;124malert\u001b[39m\u001b[38;5;124m'\u001b[39m]\u001b[38;5;241m.\u001b[39mget(\u001b[38;5;124m'\u001b[39m\u001b[38;5;124mtext\u001b[39m\u001b[38;5;124m'\u001b[39m)\n\u001b[0;32m    246\u001b[0m     \u001b[38;5;28;01mraise\u001b[39;00m exception_class(message, screen, stacktrace, alert_text)  \u001b[38;5;66;03m# type: ignore[call-arg]  # mypy is not smart enough here\u001b[39;00m\n\u001b[1;32m--> 247\u001b[0m \u001b[38;5;28;01mraise\u001b[39;00m exception_class(message, screen, stacktrace)\n",
      "\u001b[1;31mNoSuchWindowException\u001b[0m: Message: no such window: target window already closed\nfrom unknown error: web view not found\n  (Session info: chrome=103.0.5060.114)\nStacktrace:\nBacktrace:\n\tOrdinal0 [0x00B76463+2188387]\n\tOrdinal0 [0x00B0E461+1762401]\n\tOrdinal0 [0x00A23D78+802168]\n\tOrdinal0 [0x00A0C680+706176]\n\tOrdinal0 [0x00A6F169+1110377]\n\tOrdinal0 [0x00A7C3C2+1164226]\n\tOrdinal0 [0x00A6C5F6+1099254]\n\tOrdinal0 [0x00A46BE0+945120]\n\tOrdinal0 [0x00A47AD6+948950]\n\tGetHandleVerifier [0x00E171F2+2712546]\n\tGetHandleVerifier [0x00E0886D+2652765]\n\tGetHandleVerifier [0x00C0002A+520730]\n\tGetHandleVerifier [0x00BFEE06+516086]\n\tOrdinal0 [0x00B1468B+1787531]\n\tOrdinal0 [0x00B18E88+1805960]\n\tOrdinal0 [0x00B18F75+1806197]\n\tOrdinal0 [0x00B21DF1+1842673]\n\tBaseThreadInitThunk [0x75B06739+25]\n\tRtlGetFullPathName_UEx [0x77528FEF+1215]\n\tRtlGetFullPathName_UEx [0x77528FBD+1165]\n"
     ]
    }
   ],
   "source": [
    "# 첫번째 상품 클릭!\n",
    "product_li = pd.DataFrame({\n",
    "    '상품명' : [],\n",
    "    '가격' : []\n",
    "})\n",
    "product = []\n",
    "price = []\n",
    "n = 2\n",
    "for i in tq(range(10)) :\n",
    "    img_li = driver.find_elements(By.CLASS_NAME, 'lazy')\n",
    "    action = ActionChains(driver)\n",
    "    action.move_to_element(img_li[i]).perform()\n",
    "    img_li[i].click()\n",
    "    # 중간 중간 코드에 쉬는 시간을 부여(왜냐하면 로딩하는 시간이 필요하기 때문에)\n",
    "    # 서버에 부담을 주지 않기 위해서(클라이언트와 서버가 통신 중일 때 동작을 진행시켜버리면 서버에 부담이 갈 수 있음)\n",
    "    # 화면에 전환이 있었을 때(클라이언트와 서버가 통신)\n",
    "    # time.sleep() = 무조건 정해진 시간만큼 멈춤\n",
    "    time.sleep(3) # 강제성, 무조건 3초 휴식\n",
    "    # driver.implicitly_wait(10) = 최대 10초 휴식\n",
    "    # html 파일을 다 받아오면 그 중간에 멈추고 뒤 코드를 실행\n",
    "    product_i = driver.find_element(By.CLASS_NAME, 'itemtit')\n",
    "    product.append(product_i.text)\n",
    "    price_i = driver.find_element(By.CLASS_NAME, 'price_real')\n",
    "    price.append(price_i.text)\n",
    "    driver.back()\n",
    "    time.sleep(3)\n",
    "        \n",
    "product_li['상품명'] = product\n",
    "product_li['가격'] = price\n",
    "print(product_li)\n",
    "driver.close()"
   ]
  },
  {
   "cell_type": "code",
   "execution_count": null,
   "id": "1dd2f4d5",
   "metadata": {},
   "outputs": [],
   "source": []
  },
  {
   "cell_type": "code",
   "execution_count": null,
   "id": "b58bf844",
   "metadata": {},
   "outputs": [],
   "source": [
    "# driver = wb.Chrome()\n",
    "# driver.get('https://www.coupang.com/np/campaigns/82/components/194176')\n",
    "# 상품 하나를 클릭해보면 막힘\n",
    "# requests 쓸 때, 차단 뚫기\n",
    "# https://todaysgoal.tistory.com/67\n",
    "# selenium 쓸 때, 차단 뚫는 법\n",
    "# https://pythondocs.net/selenium/%EC%85%80%EB%A0%88%EB%8B%88%EC%9B%80-%EC%9B%B9-%ED%81%AC%EB%A1%A4%EB%A7%81-%EB%B4%87-%ED%83%90%EC%A7%80-%EC%9A%B0%ED%9A%8C/"
   ]
  },
  {
   "cell_type": "code",
   "execution_count": null,
   "id": "d5b456b3",
   "metadata": {},
   "outputs": [],
   "source": []
  }
 ],
 "metadata": {
  "kernelspec": {
   "display_name": "Python 3 (ipykernel)",
   "language": "python",
   "name": "python3"
  },
  "language_info": {
   "codemirror_mode": {
    "name": "ipython",
    "version": 3
   },
   "file_extension": ".py",
   "mimetype": "text/x-python",
   "name": "python",
   "nbconvert_exporter": "python",
   "pygments_lexer": "ipython3",
   "version": "3.9.12"
  },
  "toc": {
   "base_numbering": 1,
   "nav_menu": {},
   "number_sections": true,
   "sideBar": true,
   "skip_h1_title": false,
   "title_cell": "Table of Contents",
   "title_sidebar": "Contents",
   "toc_cell": false,
   "toc_position": {},
   "toc_section_display": true,
   "toc_window_display": false
  }
 },
 "nbformat": 4,
 "nbformat_minor": 5
}
