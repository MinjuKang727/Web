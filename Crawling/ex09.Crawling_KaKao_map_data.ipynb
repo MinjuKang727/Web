{
 "cells": [
  {
   "cell_type": "code",
   "execution_count": 74,
   "id": "675bb610",
   "metadata": {},
   "outputs": [],
   "source": [
    "from selenium import webdriver as web\n",
    "from selenium.webdriver.common.keys import Keys\n",
    "from selenium.webdriver.common.by import By\n",
    "from selenium.webdriver import ActionChains\n",
    "import time"
   ]
  },
  {
   "cell_type": "code",
   "execution_count": 75,
   "id": "b9364854",
   "metadata": {},
   "outputs": [],
   "source": [
    "driver = web.Chrome()\n",
    "driver.get('https://map.kakao.com/')"
   ]
  },
  {
   "cell_type": "code",
   "execution_count": 76,
   "id": "6d722522",
   "metadata": {},
   "outputs": [],
   "source": [
    "# 1. 검색창에 광주 맛집 검색\n",
    "# 지도 설정 레이어를 클릭!\n",
    "layer = driver.find_element(By.ID, 'dimmedLayer')\n",
    "layer.click()"
   ]
  },
  {
   "cell_type": "markdown",
   "id": "f1ed6be6",
   "metadata": {},
   "source": [
    "### id나 클래스(선택자)에 . or # 기호가 들어가 있는 경우\n",
    "- 컴퓨터가 해석할 때 #(아이디), .(클래스)로 인식하기 때문에\n",
    "- 문자로 인식시키기 위해서 \\# or \\. 사용!\n",
    "- 문자로 \".\", \"#\"으로 인식한다."
   ]
  },
  {
   "cell_type": "code",
   "execution_count": 77,
   "id": "9da62c69",
   "metadata": {},
   "outputs": [],
   "source": [
    "#input_box = driver.find_element(By.ID, 'search.keyword.query')\n",
    "input_box = driver.find_element(By.CSS_SELECTOR, '#search\\.keyword\\.query')\n",
    "input_box.send_keys('광주 맛집')\n",
    "input_box.send_keys(Keys.ENTER)"
   ]
  },
  {
   "cell_type": "code",
   "execution_count": 78,
   "id": "5a640845",
   "metadata": {},
   "outputs": [
    {
     "ename": "ElementNotInteractableException",
     "evalue": "Message: element not interactable\n  (Session info: chrome=103.0.5060.114)\nStacktrace:\nBacktrace:\n\tOrdinal0 [0x00B66463+2188387]\n\tOrdinal0 [0x00AFE461+1762401]\n\tOrdinal0 [0x00A13C40+801856]\n\tOrdinal0 [0x00A3CF63+970595]\n\tOrdinal0 [0x00A3C63E+968254]\n\tOrdinal0 [0x00A5C7DC+1099740]\n\tOrdinal0 [0x00A37FF4+950260]\n\tOrdinal0 [0x00A5C9F4+1100276]\n\tOrdinal0 [0x00A6CC22+1166370]\n\tOrdinal0 [0x00A5C5F6+1099254]\n\tOrdinal0 [0x00A36BE0+945120]\n\tOrdinal0 [0x00A37AD6+948950]\n\tGetHandleVerifier [0x00E071F2+2712546]\n\tGetHandleVerifier [0x00DF886D+2652765]\n\tGetHandleVerifier [0x00BF002A+520730]\n\tGetHandleVerifier [0x00BEEE06+516086]\n\tOrdinal0 [0x00B0468B+1787531]\n\tOrdinal0 [0x00B08E88+1805960]\n\tOrdinal0 [0x00B08F75+1806197]\n\tOrdinal0 [0x00B11DF1+1842673]\n\tBaseThreadInitThunk [0x75B06739+25]\n\tRtlGetFullPathName_UEx [0x77528FEF+1215]\n\tRtlGetFullPathName_UEx [0x77528FBD+1165]\n",
     "output_type": "error",
     "traceback": [
      "\u001b[1;31m---------------------------------------------------------------------------\u001b[0m",
      "\u001b[1;31mElementNotInteractableException\u001b[0m           Traceback (most recent call last)",
      "Input \u001b[1;32mIn [78]\u001b[0m, in \u001b[0;36m<cell line: 2>\u001b[1;34m()\u001b[0m\n\u001b[0;32m      1\u001b[0m body \u001b[38;5;241m=\u001b[39m driver\u001b[38;5;241m.\u001b[39mfind_element(By\u001b[38;5;241m.\u001b[39mCSS_SELECTOR, \u001b[38;5;124m'\u001b[39m\u001b[38;5;124mdiv#info\u001b[39m\u001b[38;5;124m\\\u001b[39m\u001b[38;5;124m.main\u001b[39m\u001b[38;5;124m'\u001b[39m)\n\u001b[1;32m----> 2\u001b[0m \u001b[43mbody\u001b[49m\u001b[38;5;241;43m.\u001b[39;49m\u001b[43msend_keys\u001b[49m\u001b[43m(\u001b[49m\u001b[43mKeys\u001b[49m\u001b[38;5;241;43m.\u001b[39;49m\u001b[43mEND\u001b[49m\u001b[43m)\u001b[49m\n\u001b[0;32m      3\u001b[0m time\u001b[38;5;241m.\u001b[39msleep(\u001b[38;5;241m0.5\u001b[39m)\n\u001b[0;32m      4\u001b[0m more \u001b[38;5;241m=\u001b[39m driver\u001b[38;5;241m.\u001b[39mfind_element(By\u001b[38;5;241m.\u001b[39mID, \u001b[38;5;124m'\u001b[39m\u001b[38;5;124minfo.search.place.more\u001b[39m\u001b[38;5;124m'\u001b[39m)\n",
      "File \u001b[1;32m~\\Anaconda3\\lib\\site-packages\\selenium\\webdriver\\remote\\webelement.py:223\u001b[0m, in \u001b[0;36mWebElement.send_keys\u001b[1;34m(self, *value)\u001b[0m\n\u001b[0;32m    220\u001b[0m             remote_files\u001b[38;5;241m.\u001b[39mappend(\u001b[38;5;28mself\u001b[39m\u001b[38;5;241m.\u001b[39m_upload(file))\n\u001b[0;32m    221\u001b[0m         value \u001b[38;5;241m=\u001b[39m \u001b[38;5;124m'\u001b[39m\u001b[38;5;130;01m\\n\u001b[39;00m\u001b[38;5;124m'\u001b[39m\u001b[38;5;241m.\u001b[39mjoin(remote_files)\n\u001b[1;32m--> 223\u001b[0m \u001b[38;5;28;43mself\u001b[39;49m\u001b[38;5;241;43m.\u001b[39;49m\u001b[43m_execute\u001b[49m\u001b[43m(\u001b[49m\u001b[43mCommand\u001b[49m\u001b[38;5;241;43m.\u001b[39;49m\u001b[43mSEND_KEYS_TO_ELEMENT\u001b[49m\u001b[43m,\u001b[49m\n\u001b[0;32m    224\u001b[0m \u001b[43m              \u001b[49m\u001b[43m{\u001b[49m\u001b[38;5;124;43m'\u001b[39;49m\u001b[38;5;124;43mtext\u001b[39;49m\u001b[38;5;124;43m'\u001b[39;49m\u001b[43m:\u001b[49m\u001b[43m \u001b[49m\u001b[38;5;124;43m\"\u001b[39;49m\u001b[38;5;124;43m\"\u001b[39;49m\u001b[38;5;241;43m.\u001b[39;49m\u001b[43mjoin\u001b[49m\u001b[43m(\u001b[49m\u001b[43mkeys_to_typing\u001b[49m\u001b[43m(\u001b[49m\u001b[43mvalue\u001b[49m\u001b[43m)\u001b[49m\u001b[43m)\u001b[49m\u001b[43m,\u001b[49m\n\u001b[0;32m    225\u001b[0m \u001b[43m               \u001b[49m\u001b[38;5;124;43m'\u001b[39;49m\u001b[38;5;124;43mvalue\u001b[39;49m\u001b[38;5;124;43m'\u001b[39;49m\u001b[43m:\u001b[49m\u001b[43m \u001b[49m\u001b[43mkeys_to_typing\u001b[49m\u001b[43m(\u001b[49m\u001b[43mvalue\u001b[49m\u001b[43m)\u001b[49m\u001b[43m}\u001b[49m\u001b[43m)\u001b[49m\n",
      "File \u001b[1;32m~\\Anaconda3\\lib\\site-packages\\selenium\\webdriver\\remote\\webelement.py:396\u001b[0m, in \u001b[0;36mWebElement._execute\u001b[1;34m(self, command, params)\u001b[0m\n\u001b[0;32m    394\u001b[0m     params \u001b[38;5;241m=\u001b[39m {}\n\u001b[0;32m    395\u001b[0m params[\u001b[38;5;124m'\u001b[39m\u001b[38;5;124mid\u001b[39m\u001b[38;5;124m'\u001b[39m] \u001b[38;5;241m=\u001b[39m \u001b[38;5;28mself\u001b[39m\u001b[38;5;241m.\u001b[39m_id\n\u001b[1;32m--> 396\u001b[0m \u001b[38;5;28;01mreturn\u001b[39;00m \u001b[38;5;28;43mself\u001b[39;49m\u001b[38;5;241;43m.\u001b[39;49m\u001b[43m_parent\u001b[49m\u001b[38;5;241;43m.\u001b[39;49m\u001b[43mexecute\u001b[49m\u001b[43m(\u001b[49m\u001b[43mcommand\u001b[49m\u001b[43m,\u001b[49m\u001b[43m \u001b[49m\u001b[43mparams\u001b[49m\u001b[43m)\u001b[49m\n",
      "File \u001b[1;32m~\\Anaconda3\\lib\\site-packages\\selenium\\webdriver\\remote\\webdriver.py:435\u001b[0m, in \u001b[0;36mWebDriver.execute\u001b[1;34m(self, driver_command, params)\u001b[0m\n\u001b[0;32m    433\u001b[0m response \u001b[38;5;241m=\u001b[39m \u001b[38;5;28mself\u001b[39m\u001b[38;5;241m.\u001b[39mcommand_executor\u001b[38;5;241m.\u001b[39mexecute(driver_command, params)\n\u001b[0;32m    434\u001b[0m \u001b[38;5;28;01mif\u001b[39;00m response:\n\u001b[1;32m--> 435\u001b[0m     \u001b[38;5;28;43mself\u001b[39;49m\u001b[38;5;241;43m.\u001b[39;49m\u001b[43merror_handler\u001b[49m\u001b[38;5;241;43m.\u001b[39;49m\u001b[43mcheck_response\u001b[49m\u001b[43m(\u001b[49m\u001b[43mresponse\u001b[49m\u001b[43m)\u001b[49m\n\u001b[0;32m    436\u001b[0m     response[\u001b[38;5;124m'\u001b[39m\u001b[38;5;124mvalue\u001b[39m\u001b[38;5;124m'\u001b[39m] \u001b[38;5;241m=\u001b[39m \u001b[38;5;28mself\u001b[39m\u001b[38;5;241m.\u001b[39m_unwrap_value(\n\u001b[0;32m    437\u001b[0m         response\u001b[38;5;241m.\u001b[39mget(\u001b[38;5;124m'\u001b[39m\u001b[38;5;124mvalue\u001b[39m\u001b[38;5;124m'\u001b[39m, \u001b[38;5;28;01mNone\u001b[39;00m))\n\u001b[0;32m    438\u001b[0m     \u001b[38;5;28;01mreturn\u001b[39;00m response\n",
      "File \u001b[1;32m~\\Anaconda3\\lib\\site-packages\\selenium\\webdriver\\remote\\errorhandler.py:247\u001b[0m, in \u001b[0;36mErrorHandler.check_response\u001b[1;34m(self, response)\u001b[0m\n\u001b[0;32m    245\u001b[0m         alert_text \u001b[38;5;241m=\u001b[39m value[\u001b[38;5;124m'\u001b[39m\u001b[38;5;124malert\u001b[39m\u001b[38;5;124m'\u001b[39m]\u001b[38;5;241m.\u001b[39mget(\u001b[38;5;124m'\u001b[39m\u001b[38;5;124mtext\u001b[39m\u001b[38;5;124m'\u001b[39m)\n\u001b[0;32m    246\u001b[0m     \u001b[38;5;28;01mraise\u001b[39;00m exception_class(message, screen, stacktrace, alert_text)  \u001b[38;5;66;03m# type: ignore[call-arg]  # mypy is not smart enough here\u001b[39;00m\n\u001b[1;32m--> 247\u001b[0m \u001b[38;5;28;01mraise\u001b[39;00m exception_class(message, screen, stacktrace)\n",
      "\u001b[1;31mElementNotInteractableException\u001b[0m: Message: element not interactable\n  (Session info: chrome=103.0.5060.114)\nStacktrace:\nBacktrace:\n\tOrdinal0 [0x00B66463+2188387]\n\tOrdinal0 [0x00AFE461+1762401]\n\tOrdinal0 [0x00A13C40+801856]\n\tOrdinal0 [0x00A3CF63+970595]\n\tOrdinal0 [0x00A3C63E+968254]\n\tOrdinal0 [0x00A5C7DC+1099740]\n\tOrdinal0 [0x00A37FF4+950260]\n\tOrdinal0 [0x00A5C9F4+1100276]\n\tOrdinal0 [0x00A6CC22+1166370]\n\tOrdinal0 [0x00A5C5F6+1099254]\n\tOrdinal0 [0x00A36BE0+945120]\n\tOrdinal0 [0x00A37AD6+948950]\n\tGetHandleVerifier [0x00E071F2+2712546]\n\tGetHandleVerifier [0x00DF886D+2652765]\n\tGetHandleVerifier [0x00BF002A+520730]\n\tGetHandleVerifier [0x00BEEE06+516086]\n\tOrdinal0 [0x00B0468B+1787531]\n\tOrdinal0 [0x00B08E88+1805960]\n\tOrdinal0 [0x00B08F75+1806197]\n\tOrdinal0 [0x00B11DF1+1842673]\n\tBaseThreadInitThunk [0x75B06739+25]\n\tRtlGetFullPathName_UEx [0x77528FEF+1215]\n\tRtlGetFullPathName_UEx [0x77528FBD+1165]\n"
     ]
    }
   ],
   "source": [
    "body = driver.find_element(By.CSS_SELECTOR, 'div#info\\.main')\n",
    "body.send_keys(Keys.END)\n",
    "time.sleep(0.5)\n",
    "more = driver.find_element(By.ID, 'info.search.place.more')\n",
    "more.click()\n",
    "menu_li = driver.find_elements(By.CSS_SELECTOR, '.link_name')\n",
    "for menu in menu_li :\n",
    "    menu.get_attribute('title')"
   ]
  },
  {
   "cell_type": "code",
   "execution_count": null,
   "id": "c980ee37",
   "metadata": {},
   "outputs": [],
   "source": []
  },
  {
   "cell_type": "code",
   "execution_count": null,
   "id": "ae2fef54",
   "metadata": {},
   "outputs": [],
   "source": []
  },
  {
   "cell_type": "code",
   "execution_count": null,
   "id": "41b447f9",
   "metadata": {},
   "outputs": [],
   "source": []
  }
 ],
 "metadata": {
  "kernelspec": {
   "display_name": "Python 3 (ipykernel)",
   "language": "python",
   "name": "python3"
  },
  "language_info": {
   "codemirror_mode": {
    "name": "ipython",
    "version": 3
   },
   "file_extension": ".py",
   "mimetype": "text/x-python",
   "name": "python",
   "nbconvert_exporter": "python",
   "pygments_lexer": "ipython3",
   "version": "3.9.12"
  },
  "toc": {
   "base_numbering": 1,
   "nav_menu": {},
   "number_sections": true,
   "sideBar": true,
   "skip_h1_title": false,
   "title_cell": "Table of Contents",
   "title_sidebar": "Contents",
   "toc_cell": false,
   "toc_position": {},
   "toc_section_display": true,
   "toc_window_display": false
  }
 },
 "nbformat": 4,
 "nbformat_minor": 5
}
