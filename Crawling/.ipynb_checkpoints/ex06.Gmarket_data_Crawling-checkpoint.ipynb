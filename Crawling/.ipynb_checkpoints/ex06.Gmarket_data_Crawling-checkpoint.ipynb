{
 "cells": [
  {
   "cell_type": "code",
   "execution_count": 1,
   "id": "372b4da1",
   "metadata": {},
   "outputs": [],
   "source": [
    "from selenium import webdriver as wb\n",
    "from selenium.webdriver.common.by import By\n",
    "import time\n",
    "import pandas as pd\n",
    "from tqdm import tqdm_notebook as tq\n",
    "from selenium.webdriver import ActionChains"
   ]
  },
  {
   "cell_type": "code",
   "execution_count": 2,
   "id": "233f2c32",
   "metadata": {},
   "outputs": [],
   "source": [
    "driver = wb.Chrome()\n",
    "driver.get('http://corners.gmarket.co.kr/Bestsellers')"
   ]
  },
  {
   "cell_type": "code",
   "execution_count": 3,
   "id": "62adade0",
   "metadata": {
    "scrolled": true
   },
   "outputs": [
    {
     "name": "stderr",
     "output_type": "stream",
     "text": [
      "C:\\Users\\AI\\AppData\\Local\\Temp\\ipykernel_27184\\723370677.py:9: TqdmDeprecationWarning: This function will be removed in tqdm==5.0.0\n",
      "Please use `tqdm.notebook.tqdm` instead of `tqdm.tqdm_notebook`\n",
      "  for i in tq(range(10)) :\n"
     ]
    },
    {
     "data": {
      "application/vnd.jupyter.widget-view+json": {
       "model_id": "1087a16a6c41453081a8a0ed98be47c7",
       "version_major": 2,
       "version_minor": 0
      },
      "text/plain": [
       "  0%|          | 0/10 [00:00<?, ?it/s]"
      ]
     },
     "metadata": {},
     "output_type": "display_data"
    },
    {
     "name": "stdout",
     "output_type": "stream",
     "text": [
      "                                                 상품명       가격\n",
      "0                    진짜진짜 촉촉한 올리브 토너 2개 + 로션 1개/+사은품  10,500원\n",
      "1  제스프리 제스프리 썬골드키위 특대과 3.2kg(23~25과 개당 130g~140g내...  27,740원\n",
      "2                               도드람한돈 생 삼겹살 500g 구이용  11,900원\n",
      "3    완도 전복 쿠폰가 26340 초복 선물용 횟감용 14-16미 1KG 더큰 전복 국내산  30,000원\n",
      "4                           소문난오부자 재래도시락김5g 72봉 최근생산  18,900원\n",
      "5                        올반 볶음밥 3종 10봉(새우4+김치4+우삼겹2)  15,700원\n",
      "6                           소울키친 빅마마 이혜정의 시크릿코인 205개  55,640원\n",
      "7                   올반 아삭김치 볶음밥 220g X 10팩 (팩 당 1인분)  15,700원\n",
      "8                  포스트 단백질바 500gX2개+사은품: 13660원 쿠폰가~  16,500원\n",
      "9          (추가할인+사은품) 책과함께 떠나는 북캉스 추천도서 188종 선택/무료배송   3,900원\n"
     ]
    }
   ],
   "source": [
    "# 첫번째 상품 클릭!\n",
    "product_li = pd.DataFrame({\n",
    "    '상품명' : [],\n",
    "    '가격' : []\n",
    "})\n",
    "product = []\n",
    "price = []\n",
    "n = 2\n",
    "for i in tq(range(10)) :\n",
    "    img_li = driver.find_elements(By.CLASS_NAME, 'lazy')\n",
    "    action = ActionChains(driver)\n",
    "    action.move_to_element(img_li[i]).perform()\n",
    "    img_li[i].click()\n",
    "    # 중간 중간 코드에 쉬는 시간을 부여\n",
    "    # 서버에 부담을 주지 않기 위해서\n",
    "    # 화면에 전환이 있었을 때(클라이언트와 서버가 통신)\n",
    "    # time.sleep() = 무조건 정해진 시간만큼 멈춤\n",
    "    time.sleep(3) # 강제성, 무조건 3초 휴식\n",
    "    # driver.implicitly_wait(10) = 최대 10초 휴식\n",
    "    # html 파일을 다 받아오면 그 중간에 멈추고 뒤 코드를 실행\n",
    "    product_i = driver.find_element(By.CLASS_NAME, 'itemtit')\n",
    "    product.append(product_i.text)\n",
    "    price_i = driver.find_element(By.CLASS_NAME, 'price_real')\n",
    "    price.append(price_i.text)\n",
    "    driver.back()\n",
    "    time.sleep(3)\n",
    "        \n",
    "product_li['상품명'] = product\n",
    "product_li['가격'] = price\n",
    "print(product_li)\n",
    "driver.close()"
   ]
  },
  {
   "cell_type": "code",
   "execution_count": null,
   "id": "1dd2f4d5",
   "metadata": {},
   "outputs": [],
   "source": []
  },
  {
   "cell_type": "code",
   "execution_count": 4,
   "id": "b58bf844",
   "metadata": {},
   "outputs": [],
   "source": [
    "# driver = wb.Chrome()\n",
    "# driver.get('https://www.coupang.com/np/campaigns/82/components/194176')\n",
    "# 상품 하나를 클릭해보면 막힘\n",
    "# requests 쓸 때, 차단 뚫기\n",
    "# https://todaysgoal.tistory.com/67\n",
    "# selenium 쓸 때, 차단 뚫는 법\n",
    "# https://pythondocs.net/selenium/%EC%85%80%EB%A0%88%EB%8B%88%EC%9B%80-%EC%9B%B9-%ED%81%AC%EB%A1%A4%EB%A7%81-%EB%B4%87-%ED%83%90%EC%A7%80-%EC%9A%B0%ED%9A%8C/"
   ]
  },
  {
   "cell_type": "code",
   "execution_count": null,
   "id": "d5b456b3",
   "metadata": {},
   "outputs": [],
   "source": []
  }
 ],
 "metadata": {
  "kernelspec": {
   "display_name": "Python 3 (ipykernel)",
   "language": "python",
   "name": "python3"
  },
  "language_info": {
   "codemirror_mode": {
    "name": "ipython",
    "version": 3
   },
   "file_extension": ".py",
   "mimetype": "text/x-python",
   "name": "python",
   "nbconvert_exporter": "python",
   "pygments_lexer": "ipython3",
   "version": "3.9.12"
  },
  "toc": {
   "base_numbering": 1,
   "nav_menu": {},
   "number_sections": true,
   "sideBar": true,
   "skip_h1_title": false,
   "title_cell": "Table of Contents",
   "title_sidebar": "Contents",
   "toc_cell": false,
   "toc_position": {},
   "toc_section_display": true,
   "toc_window_display": false
  }
 },
 "nbformat": 4,
 "nbformat_minor": 5
}
