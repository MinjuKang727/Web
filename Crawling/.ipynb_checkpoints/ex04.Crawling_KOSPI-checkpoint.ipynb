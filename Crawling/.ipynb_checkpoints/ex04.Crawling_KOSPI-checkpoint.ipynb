{
 "cells": [
  {
   "cell_type": "markdown",
   "id": "43abd9e6",
   "metadata": {},
   "source": [
    "# 1. 종목명, 현재 가격, 거래량\n",
    "- 데이터 프레임 제작 , csv 저장 (전체 데이터 100개)\n"
   ]
  },
  {
   "cell_type": "code",
   "execution_count": 1,
   "id": "e8c86392",
   "metadata": {},
   "outputs": [],
   "source": [
    "import requests as req\n",
    "from bs4 import BeautifulSoup as bs\n",
    "import pandas as pd"
   ]
  },
  {
   "cell_type": "code",
   "execution_count": 3,
   "id": "ef06bbf1",
   "metadata": {},
   "outputs": [],
   "source": [
    "res = req.get('https://finance.naver.com/sise/sise_quant.naver')\n",
    "soup = bs(res.text, 'lxml')\n",
    "\n",
    "kospi = pd.DataFrame({\n",
    "    '종목명' : [],\n",
    "    '현재가' : [],\n",
    "    '거래량' : []\n",
    "})\n",
    "\n",
    "for n, j in [(2, '종목명'), (3,'현재가'), (6,'거래량')] :\n",
    "    data = soup.select(f'tr > td:nth-child({n})')\n",
    "    li = []\n",
    "    for i in data :\n",
    "        li.append(i.text)\n",
    "    kospi[j] = li[5:]\n",
    "\n",
    "kospi.to_csv('data/kospi.csv', encoding = 'euc-kr')"
   ]
  },
  {
   "cell_type": "code",
   "execution_count": null,
   "id": "f2a5a34e",
   "metadata": {},
   "outputs": [],
   "source": []
  },
  {
   "cell_type": "code",
   "execution_count": null,
   "id": "b6e7e90d",
   "metadata": {},
   "outputs": [],
   "source": []
  },
  {
   "cell_type": "code",
   "execution_count": null,
   "id": "e1f35b75",
   "metadata": {},
   "outputs": [],
   "source": []
  },
  {
   "cell_type": "code",
   "execution_count": null,
   "id": "76b2cb00",
   "metadata": {},
   "outputs": [],
   "source": []
  }
 ],
 "metadata": {
  "kernelspec": {
   "display_name": "Python 3 (ipykernel)",
   "language": "python",
   "name": "python3"
  },
  "language_info": {
   "codemirror_mode": {
    "name": "ipython",
    "version": 3
   },
   "file_extension": ".py",
   "mimetype": "text/x-python",
   "name": "python",
   "nbconvert_exporter": "python",
   "pygments_lexer": "ipython3",
   "version": "3.9.12"
  },
  "toc": {
   "base_numbering": 1,
   "nav_menu": {},
   "number_sections": true,
   "sideBar": true,
   "skip_h1_title": false,
   "title_cell": "Table of Contents",
   "title_sidebar": "Contents",
   "toc_cell": false,
   "toc_position": {},
   "toc_section_display": true,
   "toc_window_display": false
  }
 },
 "nbformat": 4,
 "nbformat_minor": 5
}
