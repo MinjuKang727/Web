{
 "cells": [
  {
   "cell_type": "code",
   "execution_count": 8,
   "id": "4ae9ff31",
   "metadata": {},
   "outputs": [],
   "source": [
    "import pandas as pd"
   ]
  },
  {
   "cell_type": "code",
   "execution_count": 26,
   "id": "ddb42e48",
   "metadata": {},
   "outputs": [],
   "source": [
    "survey = pd.read_csv('./data/survey_result.csv', encoding='utf-8')"
   ]
  },
  {
   "cell_type": "code",
   "execution_count": 27,
   "id": "b95177f8",
   "metadata": {},
   "outputs": [
    {
     "name": "stdout",
     "output_type": "stream",
     "text": [
      "<class 'pandas.core.frame.DataFrame'>\n",
      "RangeIndex: 22 entries, 0 to 21\n",
      "Data columns (total 30 columns):\n",
      " #   Column                                                                                      Non-Null Count  Dtype  \n",
      "---  ------                                                                                      --------------  -----  \n",
      " 0   타임스탬프                                                                                       22 non-null     object \n",
      " 1   파충류 혹은 소형 포유류의 사육자이십니까?                                                                     22 non-null     object \n",
      " 2   기르시고 계신 애완 동물의 종은 무엇입니까?\n",
      "(중복 선택 가능)                                                         21 non-null     object \n",
      " 3   기르시는 애완동물은 총 몇 마리입니까?                                                                       21 non-null     object \n",
      " 4   애완동물을 기른 기간이 얼마나 되셨습니까?                                                                     16 non-null     object \n",
      " 5   애완동물을 기르시며 가장 힘들었던 점은 무엇입니까?\n",
      "--1위(제일 힘들었던 점)부터 5위까지 순위 정해주세요.(순위 중복 불가) [경제적인 면]            21 non-null     float64\n",
      " 6   애완동물을 기르시며 가장 힘들었던 점은 무엇입니까?\n",
      "--1위(제일 힘들었던 점)부터 5위까지 순위 정해주세요.(순위 중복 불가) [사육환경 조절]           21 non-null     float64\n",
      " 7   애완동물을 기르시며 가장 힘들었던 점은 무엇입니까?\n",
      "--1위(제일 힘들었던 점)부터 5위까지 순위 정해주세요.(순위 중복 불가) [정보 부족]             21 non-null     float64\n",
      " 8   애완동물을 기르시며 가장 힘들었던 점은 무엇입니까?\n",
      "--1위(제일 힘들었던 점)부터 5위까지 순위 정해주세요.(순위 중복 불가) [외출이 어려움]           21 non-null     float64\n",
      " 9   애완동물을 기르시며 가장 힘들었던 점은 무엇입니까?\n",
      "--1위(제일 힘들었던 점)부터 5위까지 순위 정해주세요.(순위 중복 불가) [어린 개체 관리]          21 non-null     float64\n",
      " 10  위의 항목 외에 사육 중 특별히 힘든 부분이 있으신가요?                                                             13 non-null     object \n",
      " 11  애완동물을 기르시는 즐거움을 어디서 느끼십니까?\n",
      "--1위(가장 즐거움)부터 4위까지 순위 정해주세요.\n",
      "(순위 중복 불가) [먹이 줄 때]                21 non-null     float64\n",
      " 12  애완동물을 기르시는 즐거움을 어디서 느끼십니까?\n",
      "--1위(가장 즐거움)부터 4위까지 순위 정해주세요.\n",
      "(순위 중복 불가) [쑥쑥 클 때]                21 non-null     float64\n",
      " 13  애완동물을 기르시는 즐거움을 어디서 느끼십니까?\n",
      "--1위(가장 즐거움)부터 4위까지 순위 정해주세요.\n",
      "(순위 중복 불가) [알(새끼) 낳았을 때]           21 non-null     float64\n",
      " 14  애완동물을 기르시는 즐거움을 어디서 느끼십니까?\n",
      "--1위(가장 즐거움)부터 4위까지 순위 정해주세요.\n",
      "(순위 중복 불가) [동물 자체의 매력]             21 non-null     float64\n",
      " 15  애완동물을 기를 때 가장 돈이 많이 드는 곳은 무엇입니까?                                                            21 non-null     object \n",
      " 16  사용하고 계신 사육장이 총 몇 개입니까?                                                                      22 non-null     object \n",
      " 17  기존 사육장을 사용하실 때, 불편했던 점이 있으시다면 무엇입니까?                                                        17 non-null     object \n",
      " 18  분양받았을 때, 동물의 성장, 개체 수 증가 외에 사육장을 재구매하게 되는 이유가 있으십니까?                                        22 non-null     object \n",
      " 19  사육장을 구매할 때 제일 중요하게 생각하는 부분은 무엇입니까?                                                          22 non-null     object \n",
      " 20  자동 환경 제어 및 사육장, 애완동물 상태 확인이 가능한 사육장이 필요하다고 생각하십니까?                                          22 non-null     object \n",
      " 21  스마트 사육장에 어떤 기능이 꼭 들어가야 한다고 생각하십니까?\n",
      "--1위(제일 중요한 기능)부터 5위까지 순위 정해주세요.(순위 중복 불가) [온, 습도 조절]    22 non-null     int64  \n",
      " 22  스마트 사육장에 어떤 기능이 꼭 들어가야 한다고 생각하십니까?\n",
      "--1위(제일 중요한 기능)부터 5위까지 순위 정해주세요.(순위 중복 불가) [자동 급식기]      22 non-null     int64  \n",
      " 23  스마트 사육장에 어떤 기능이 꼭 들어가야 한다고 생각하십니까?\n",
      "--1위(제일 중요한 기능)부터 5위까지 순위 정해주세요.(순위 중복 불가) [사육장 오염도 체크]  22 non-null     int64  \n",
      " 24  스마트 사육장에 어떤 기능이 꼭 들어가야 한다고 생각하십니까?\n",
      "--1위(제일 중요한 기능)부터 5위까지 순위 정해주세요.(순위 중복 불가) [개체 활동량 체크]   22 non-null     int64  \n",
      " 25  스마트 사육장에 어떤 기능이 꼭 들어가야 한다고 생각하십니까?\n",
      "--1위(제일 중요한 기능)부터 5위까지 순위 정해주세요.(순위 중복 불가) [먹이 섭취량 체크]   22 non-null     int64  \n",
      " 26  더 추가되었으면 하는 기능이 있으십니까?                                                                      11 non-null     object \n",
      " 27  스마트 사육장의 크기는 어느 정도가 가장 적당하다고 생각하십니까? \n",
      "(애완동물 종, 사육장의 크기를 입력해 주세요.)                           17 non-null     object \n",
      " 28  스마트 사육장의 가격은 얼마 얼마 정도가 적당하다고 생각하십니까?                                                        22 non-null     object \n",
      " 29  스마트 사육장과 연동되는 어플에 추가로 있었으면 하는 기능이 있으십니까?                                                    13 non-null     object \n",
      "dtypes: float64(9), int64(5), object(16)\n",
      "memory usage: 5.3+ KB\n"
     ]
    }
   ],
   "source": [
    "survey.info()"
   ]
  },
  {
   "cell_type": "code",
   "execution_count": 28,
   "id": "7987bcfe",
   "metadata": {},
   "outputs": [
    {
     "ename": "ValueError",
     "evalue": "Need to specify at least one of 'labels', 'index' or 'columns'",
     "output_type": "error",
     "traceback": [
      "\u001b[1;31m---------------------------------------------------------------------------\u001b[0m",
      "\u001b[1;31mValueError\u001b[0m                                Traceback (most recent call last)",
      "Input \u001b[1;32mIn [28]\u001b[0m, in \u001b[0;36m<cell line: 1>\u001b[1;34m()\u001b[0m\n\u001b[1;32m----> 1\u001b[0m \u001b[43msurvey\u001b[49m\u001b[43m[\u001b[49m\u001b[38;5;124;43m'\u001b[39;49m\u001b[38;5;124;43m타임스탬프\u001b[39;49m\u001b[38;5;124;43m'\u001b[39;49m\u001b[43m]\u001b[49m\u001b[38;5;241;43m.\u001b[39;49m\u001b[43mdrop\u001b[49m\u001b[43m(\u001b[49m\u001b[43m)\u001b[49m\n",
      "File \u001b[1;32m~\\Anaconda3\\lib\\site-packages\\pandas\\util\\_decorators.py:311\u001b[0m, in \u001b[0;36mdeprecate_nonkeyword_arguments.<locals>.decorate.<locals>.wrapper\u001b[1;34m(*args, **kwargs)\u001b[0m\n\u001b[0;32m    305\u001b[0m \u001b[38;5;28;01mif\u001b[39;00m \u001b[38;5;28mlen\u001b[39m(args) \u001b[38;5;241m>\u001b[39m num_allow_args:\n\u001b[0;32m    306\u001b[0m     warnings\u001b[38;5;241m.\u001b[39mwarn(\n\u001b[0;32m    307\u001b[0m         msg\u001b[38;5;241m.\u001b[39mformat(arguments\u001b[38;5;241m=\u001b[39marguments),\n\u001b[0;32m    308\u001b[0m         \u001b[38;5;167;01mFutureWarning\u001b[39;00m,\n\u001b[0;32m    309\u001b[0m         stacklevel\u001b[38;5;241m=\u001b[39mstacklevel,\n\u001b[0;32m    310\u001b[0m     )\n\u001b[1;32m--> 311\u001b[0m \u001b[38;5;28;01mreturn\u001b[39;00m func(\u001b[38;5;241m*\u001b[39margs, \u001b[38;5;241m*\u001b[39m\u001b[38;5;241m*\u001b[39mkwargs)\n",
      "File \u001b[1;32m~\\Anaconda3\\lib\\site-packages\\pandas\\core\\series.py:4771\u001b[0m, in \u001b[0;36mSeries.drop\u001b[1;34m(self, labels, axis, index, columns, level, inplace, errors)\u001b[0m\n\u001b[0;32m   4674\u001b[0m \u001b[38;5;129m@deprecate_nonkeyword_arguments\u001b[39m(version\u001b[38;5;241m=\u001b[39m\u001b[38;5;28;01mNone\u001b[39;00m, allowed_args\u001b[38;5;241m=\u001b[39m[\u001b[38;5;124m\"\u001b[39m\u001b[38;5;124mself\u001b[39m\u001b[38;5;124m\"\u001b[39m, \u001b[38;5;124m\"\u001b[39m\u001b[38;5;124mlabels\u001b[39m\u001b[38;5;124m\"\u001b[39m])\n\u001b[0;32m   4675\u001b[0m \u001b[38;5;28;01mdef\u001b[39;00m \u001b[38;5;21mdrop\u001b[39m(\n\u001b[0;32m   4676\u001b[0m     \u001b[38;5;28mself\u001b[39m,\n\u001b[1;32m   (...)\u001b[0m\n\u001b[0;32m   4683\u001b[0m     errors\u001b[38;5;241m=\u001b[39m\u001b[38;5;124m\"\u001b[39m\u001b[38;5;124mraise\u001b[39m\u001b[38;5;124m\"\u001b[39m,\n\u001b[0;32m   4684\u001b[0m ) \u001b[38;5;241m-\u001b[39m\u001b[38;5;241m>\u001b[39m Series:\n\u001b[0;32m   4685\u001b[0m     \u001b[38;5;124;03m\"\"\"\u001b[39;00m\n\u001b[0;32m   4686\u001b[0m \u001b[38;5;124;03m    Return Series with specified index labels removed.\u001b[39;00m\n\u001b[0;32m   4687\u001b[0m \n\u001b[1;32m   (...)\u001b[0m\n\u001b[0;32m   4769\u001b[0m \u001b[38;5;124;03m    dtype: float64\u001b[39;00m\n\u001b[0;32m   4770\u001b[0m \u001b[38;5;124;03m    \"\"\"\u001b[39;00m\n\u001b[1;32m-> 4771\u001b[0m     \u001b[38;5;28;01mreturn\u001b[39;00m \u001b[38;5;28;43msuper\u001b[39;49m\u001b[43m(\u001b[49m\u001b[43m)\u001b[49m\u001b[38;5;241;43m.\u001b[39;49m\u001b[43mdrop\u001b[49m\u001b[43m(\u001b[49m\n\u001b[0;32m   4772\u001b[0m \u001b[43m        \u001b[49m\u001b[43mlabels\u001b[49m\u001b[38;5;241;43m=\u001b[39;49m\u001b[43mlabels\u001b[49m\u001b[43m,\u001b[49m\n\u001b[0;32m   4773\u001b[0m \u001b[43m        \u001b[49m\u001b[43maxis\u001b[49m\u001b[38;5;241;43m=\u001b[39;49m\u001b[43maxis\u001b[49m\u001b[43m,\u001b[49m\n\u001b[0;32m   4774\u001b[0m \u001b[43m        \u001b[49m\u001b[43mindex\u001b[49m\u001b[38;5;241;43m=\u001b[39;49m\u001b[43mindex\u001b[49m\u001b[43m,\u001b[49m\n\u001b[0;32m   4775\u001b[0m \u001b[43m        \u001b[49m\u001b[43mcolumns\u001b[49m\u001b[38;5;241;43m=\u001b[39;49m\u001b[43mcolumns\u001b[49m\u001b[43m,\u001b[49m\n\u001b[0;32m   4776\u001b[0m \u001b[43m        \u001b[49m\u001b[43mlevel\u001b[49m\u001b[38;5;241;43m=\u001b[39;49m\u001b[43mlevel\u001b[49m\u001b[43m,\u001b[49m\n\u001b[0;32m   4777\u001b[0m \u001b[43m        \u001b[49m\u001b[43minplace\u001b[49m\u001b[38;5;241;43m=\u001b[39;49m\u001b[43minplace\u001b[49m\u001b[43m,\u001b[49m\n\u001b[0;32m   4778\u001b[0m \u001b[43m        \u001b[49m\u001b[43merrors\u001b[49m\u001b[38;5;241;43m=\u001b[39;49m\u001b[43merrors\u001b[49m\u001b[43m,\u001b[49m\n\u001b[0;32m   4779\u001b[0m \u001b[43m    \u001b[49m\u001b[43m)\u001b[49m\n",
      "File \u001b[1;32m~\\Anaconda3\\lib\\site-packages\\pandas\\core\\generic.py:4259\u001b[0m, in \u001b[0;36mNDFrame.drop\u001b[1;34m(self, labels, axis, index, columns, level, inplace, errors)\u001b[0m\n\u001b[0;32m   4257\u001b[0m     axes, _ \u001b[38;5;241m=\u001b[39m \u001b[38;5;28mself\u001b[39m\u001b[38;5;241m.\u001b[39m_construct_axes_from_arguments((index, columns), {})\n\u001b[0;32m   4258\u001b[0m \u001b[38;5;28;01melse\u001b[39;00m:\n\u001b[1;32m-> 4259\u001b[0m     \u001b[38;5;28;01mraise\u001b[39;00m \u001b[38;5;167;01mValueError\u001b[39;00m(\n\u001b[0;32m   4260\u001b[0m         \u001b[38;5;124m\"\u001b[39m\u001b[38;5;124mNeed to specify at least one of \u001b[39m\u001b[38;5;124m'\u001b[39m\u001b[38;5;124mlabels\u001b[39m\u001b[38;5;124m'\u001b[39m\u001b[38;5;124m, \u001b[39m\u001b[38;5;124m'\u001b[39m\u001b[38;5;124mindex\u001b[39m\u001b[38;5;124m'\u001b[39m\u001b[38;5;124m or \u001b[39m\u001b[38;5;124m'\u001b[39m\u001b[38;5;124mcolumns\u001b[39m\u001b[38;5;124m'\u001b[39m\u001b[38;5;124m\"\u001b[39m\n\u001b[0;32m   4261\u001b[0m     )\n\u001b[0;32m   4263\u001b[0m obj \u001b[38;5;241m=\u001b[39m \u001b[38;5;28mself\u001b[39m\n\u001b[0;32m   4265\u001b[0m \u001b[38;5;28;01mfor\u001b[39;00m axis, labels \u001b[38;5;129;01min\u001b[39;00m axes\u001b[38;5;241m.\u001b[39mitems():\n",
      "\u001b[1;31mValueError\u001b[0m: Need to specify at least one of 'labels', 'index' or 'columns'"
     ]
    }
   ],
   "source": [
    "survey['타임스탬프'].drop()"
   ]
  },
  {
   "cell_type": "code",
   "execution_count": null,
   "id": "7b656540",
   "metadata": {},
   "outputs": [],
   "source": [
    "# 첫번째 상품 클릭!\n",
    "product_li = pd.DataFrame({\n",
    "    '상품명' : [],\n",
    "    '가격' : []\n",
    "})\n",
    "product = []\n",
    "price = []\n",
    "n = 2\n",
    "for i in tq(range(10)) :\n",
    "    img_li = driver.find_elements(By.CLASS_NAME, 'lazy')\n",
    "    action = ActionChains(driver)\n",
    "    action.move_to_element(img_li[i]).perform()\n",
    "    img_li[i].click()\n",
    "    # 중간 중간 코드에 쉬는 시간을 부여(왜냐하면 로딩하는 시간이 필요하기 때문에)\n",
    "    # 서버에 부담을 주지 않기 위해서(클라이언트와 서버가 통신 중일 때 동작을 진행시켜버리면 서버에 부담이 갈 수 있음)\n",
    "    # 화면에 전환이 있었을 때(클라이언트와 서버가 통신)\n",
    "    # time.sleep() = 무조건 정해진 시간만큼 멈춤\n",
    "    time.sleep(3) # 강제성, 무조건 3초 휴식\n",
    "    # driver.implicitly_wait(10) = 최대 10초 휴식\n",
    "    # html 파일을 다 받아오면 그 중간에 멈추고 뒤 코드를 실행\n",
    "    product_i = driver.find_element(By.CLASS_NAME, 'itemtit')\n",
    "    product.append(product_i.text)\n",
    "    price_i = driver.find_element(By.CLASS_NAME, 'price_real')\n",
    "    price.append(price_i.text)\n",
    "    driver.back()\n",
    "    time.sleep(3)\n",
    "        \n",
    "product_li['상품명'] = product\n",
    "product_li['가격'] = price\n",
    "print(product_li)\n",
    "driver.close()"
   ]
  },
  {
   "cell_type": "code",
   "execution_count": null,
   "id": "9a904c78",
   "metadata": {},
   "outputs": [],
   "source": []
  },
  {
   "cell_type": "code",
   "execution_count": null,
   "id": "97d8700d",
   "metadata": {},
   "outputs": [],
   "source": []
  },
  {
   "cell_type": "code",
   "execution_count": null,
   "id": "21e150b2",
   "metadata": {},
   "outputs": [],
   "source": []
  }
 ],
 "metadata": {
  "kernelspec": {
   "display_name": "Python 3 (ipykernel)",
   "language": "python",
   "name": "python3"
  },
  "language_info": {
   "codemirror_mode": {
    "name": "ipython",
    "version": 3
   },
   "file_extension": ".py",
   "mimetype": "text/x-python",
   "name": "python",
   "nbconvert_exporter": "python",
   "pygments_lexer": "ipython3",
   "version": "3.9.12"
  },
  "toc": {
   "base_numbering": 1,
   "nav_menu": {},
   "number_sections": true,
   "sideBar": true,
   "skip_h1_title": false,
   "title_cell": "Table of Contents",
   "title_sidebar": "Contents",
   "toc_cell": false,
   "toc_position": {},
   "toc_section_display": true,
   "toc_window_display": false
  }
 },
 "nbformat": 4,
 "nbformat_minor": 5
}
